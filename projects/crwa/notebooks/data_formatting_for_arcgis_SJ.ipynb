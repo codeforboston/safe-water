{
 "cells": [
  {
   "cell_type": "code",
   "execution_count": 1,
   "metadata": {
    "ExecuteTime": {
     "end_time": "2020-08-05T01:00:50.644320Z",
     "start_time": "2020-08-05T01:00:47.701888Z"
    }
   },
   "outputs": [],
   "source": [
    "import pandas as pd\n",
    "import numpy as np\n",
    "from matplotlib import pyplot as plt\n",
    "\n",
    "import reverse_geocoder as rg"
   ]
  },
  {
   "cell_type": "code",
   "execution_count": 2,
   "metadata": {
    "ExecuteTime": {
     "end_time": "2020-08-05T01:00:50.815429Z",
     "start_time": "2020-08-05T01:00:50.647282Z"
    }
   },
   "outputs": [
    {
     "data": {
      "text/html": [
       "<div>\n",
       "<style scoped>\n",
       "    .dataframe tbody tr th:only-of-type {\n",
       "        vertical-align: middle;\n",
       "    }\n",
       "\n",
       "    .dataframe tbody tr th {\n",
       "        vertical-align: top;\n",
       "    }\n",
       "\n",
       "    .dataframe thead th {\n",
       "        text-align: right;\n",
       "    }\n",
       "</style>\n",
       "<table border=\"1\" class=\"dataframe\">\n",
       "  <thead>\n",
       "    <tr style=\"text-align: right;\">\n",
       "      <th></th>\n",
       "      <th>Date_Collected</th>\n",
       "      <th>Time_Collected</th>\n",
       "      <th>Component_Name</th>\n",
       "      <th>Site_ID</th>\n",
       "      <th>Site_Name</th>\n",
       "      <th>Town</th>\n",
       "      <th>River_Mile_Headwaters</th>\n",
       "      <th>Latitude_DD</th>\n",
       "      <th>Longitude_DD</th>\n",
       "      <th>Reporting_Result</th>\n",
       "      <th>Result_Type</th>\n",
       "      <th>Unit_Abbreviation</th>\n",
       "    </tr>\n",
       "  </thead>\n",
       "  <tbody>\n",
       "    <tr>\n",
       "      <th>0</th>\n",
       "      <td>6/6/1995 0:00</td>\n",
       "      <td>1899-12-30 06:00:00-05</td>\n",
       "      <td>Temperature, water</td>\n",
       "      <td>521S</td>\n",
       "      <td>Ames St. Bridge</td>\n",
       "      <td>Dedham</td>\n",
       "      <td>52.1 MI</td>\n",
       "      <td>42.2524</td>\n",
       "      <td>-71.1763</td>\n",
       "      <td>27.6</td>\n",
       "      <td>Actual</td>\n",
       "      <td>deg C</td>\n",
       "    </tr>\n",
       "    <tr>\n",
       "      <th>1</th>\n",
       "      <td>6/6/1995 0:00</td>\n",
       "      <td>1899-12-30 06:00:00-05</td>\n",
       "      <td>Temperature, water</td>\n",
       "      <td>534S</td>\n",
       "      <td>Rt. 109 Bridge</td>\n",
       "      <td>Boston/Dedham</td>\n",
       "      <td>53.4 MI</td>\n",
       "      <td>42.2708</td>\n",
       "      <td>-71.1732</td>\n",
       "      <td>23.0</td>\n",
       "      <td>Actual</td>\n",
       "      <td>deg C</td>\n",
       "    </tr>\n",
       "    <tr>\n",
       "      <th>2</th>\n",
       "      <td>6/6/1995 0:00</td>\n",
       "      <td>1899-12-30 06:00:00-05</td>\n",
       "      <td>Temperature, water</td>\n",
       "      <td>567S</td>\n",
       "      <td>Nahanton Park</td>\n",
       "      <td>Needham/Newton</td>\n",
       "      <td>56.7 MI</td>\n",
       "      <td>42.2971</td>\n",
       "      <td>-71.2078</td>\n",
       "      <td>22.3</td>\n",
       "      <td>Actual</td>\n",
       "      <td>deg C</td>\n",
       "    </tr>\n",
       "    <tr>\n",
       "      <th>3</th>\n",
       "      <td>6/6/1995 0:00</td>\n",
       "      <td>1899-12-30 06:00:00-05</td>\n",
       "      <td>Temperature, water</td>\n",
       "      <td>621S</td>\n",
       "      <td>Leo J. Martin Golf Course / Park Rd.</td>\n",
       "      <td>Newton/Weston</td>\n",
       "      <td>62.1 MI</td>\n",
       "      <td>42.3306</td>\n",
       "      <td>-71.2680</td>\n",
       "      <td>22.6</td>\n",
       "      <td>Actual</td>\n",
       "      <td>deg C</td>\n",
       "    </tr>\n",
       "    <tr>\n",
       "      <th>4</th>\n",
       "      <td>6/6/1995 0:00</td>\n",
       "      <td>1899-12-30 06:00:00-05</td>\n",
       "      <td>Temperature, water</td>\n",
       "      <td>648S</td>\n",
       "      <td>Auburndale Park, Lakes Region</td>\n",
       "      <td>Waltham</td>\n",
       "      <td>64.8 MI</td>\n",
       "      <td>42.3615</td>\n",
       "      <td>-71.2501</td>\n",
       "      <td>22.8</td>\n",
       "      <td>Actual</td>\n",
       "      <td>deg C</td>\n",
       "    </tr>\n",
       "  </tbody>\n",
       "</table>\n",
       "</div>"
      ],
      "text/plain": [
       "  Date_Collected          Time_Collected      Component_Name Site_ID  \\\n",
       "0  6/6/1995 0:00  1899-12-30 06:00:00-05  Temperature, water    521S   \n",
       "1  6/6/1995 0:00  1899-12-30 06:00:00-05  Temperature, water    534S   \n",
       "2  6/6/1995 0:00  1899-12-30 06:00:00-05  Temperature, water    567S   \n",
       "3  6/6/1995 0:00  1899-12-30 06:00:00-05  Temperature, water    621S   \n",
       "4  6/6/1995 0:00  1899-12-30 06:00:00-05  Temperature, water    648S   \n",
       "\n",
       "                              Site_Name            Town River_Mile_Headwaters  \\\n",
       "0                       Ames St. Bridge          Dedham               52.1 MI   \n",
       "1                        Rt. 109 Bridge   Boston/Dedham               53.4 MI   \n",
       "2                         Nahanton Park  Needham/Newton               56.7 MI   \n",
       "3  Leo J. Martin Golf Course / Park Rd.   Newton/Weston               62.1 MI   \n",
       "4         Auburndale Park, Lakes Region         Waltham               64.8 MI   \n",
       "\n",
       "   Latitude_DD  Longitude_DD  Reporting_Result Result_Type Unit_Abbreviation  \n",
       "0      42.2524      -71.1763              27.6      Actual             deg C  \n",
       "1      42.2708      -71.1732              23.0      Actual             deg C  \n",
       "2      42.2971      -71.2078              22.3      Actual             deg C  \n",
       "3      42.3306      -71.2680              22.6      Actual             deg C  \n",
       "4      42.3615      -71.2501              22.8      Actual             deg C  "
      ]
     },
     "execution_count": 2,
     "metadata": {},
     "output_type": "execute_result"
    }
   ],
   "source": [
    "df = pd.read_csv('data_for_prototype.csv')\n",
    "df.head()"
   ]
  },
  {
   "cell_type": "code",
   "execution_count": 3,
   "metadata": {
    "ExecuteTime": {
     "end_time": "2020-08-05T01:00:50.847343Z",
     "start_time": "2020-08-05T01:00:50.819419Z"
    },
    "scrolled": true
   },
   "outputs": [
    {
     "data": {
      "text/plain": [
       "Date_Collected               2\n",
       "Time_Collected            1693\n",
       "Component_Name               2\n",
       "Site_ID                      1\n",
       "Site_Name                  226\n",
       "Town                       387\n",
       "River_Mile_Headwaters    13264\n",
       "Latitude_DD                864\n",
       "Longitude_DD               864\n",
       "Reporting_Result            12\n",
       "Result_Type                  2\n",
       "Unit_Abbreviation            2\n",
       "dtype: int64"
      ]
     },
     "execution_count": 3,
     "metadata": {},
     "output_type": "execute_result"
    }
   ],
   "source": [
    "# Check Null value\n",
    "df.isnull().sum()"
   ]
  },
  {
   "cell_type": "code",
   "execution_count": 4,
   "metadata": {
    "ExecuteTime": {
     "end_time": "2020-08-05T01:00:50.870312Z",
     "start_time": "2020-08-05T01:00:50.849338Z"
    },
    "scrolled": true
   },
   "outputs": [],
   "source": [
    "# Remove Null value from Date_Collected column\n",
    "df = df.drop(df[df['Date_Collected'].isnull()].index)"
   ]
  },
  {
   "cell_type": "code",
   "execution_count": 5,
   "metadata": {
    "ExecuteTime": {
     "end_time": "2020-08-05T01:00:50.900239Z",
     "start_time": "2020-08-05T01:00:50.872276Z"
    }
   },
   "outputs": [],
   "source": [
    "# Leave only date information in Date_Collected column\n",
    "df['Date_Collected'] = df['Date_Collected'].map(lambda x: x.split(' ')[0])"
   ]
  },
  {
   "cell_type": "code",
   "execution_count": 6,
   "metadata": {
    "ExecuteTime": {
     "end_time": "2020-08-05T01:00:50.920149Z",
     "start_time": "2020-08-05T01:00:50.903197Z"
    }
   },
   "outputs": [],
   "source": [
    "# Merge the data under the category of 'Escherichia coli' and 'Fecal coliform' as 'Escherichia coli'\n",
    "df['Component_Name'] = df['Component_Name'].map(lambda x: 'Escherichia coli' if x == 'Fecal coliform' else x)"
   ]
  },
  {
   "cell_type": "code",
   "execution_count": 7,
   "metadata": {
    "ExecuteTime": {
     "end_time": "2020-08-05T01:00:50.930122Z",
     "start_time": "2020-08-05T01:00:50.925143Z"
    }
   },
   "outputs": [],
   "source": [
    "# Select Categories we need\n",
    "categories = ['Escherichia coli', 'Phosphorus', 'Chlorophyll a']"
   ]
  },
  {
   "cell_type": "code",
   "execution_count": 8,
   "metadata": {
    "ExecuteTime": {
     "end_time": "2020-08-05T01:00:50.949093Z",
     "start_time": "2020-08-05T01:00:50.936106Z"
    },
    "scrolled": true
   },
   "outputs": [],
   "source": [
    "# Filter by selected categories\n",
    "df = df[df['Component_Name'].isin(categories)]"
   ]
  },
  {
   "cell_type": "code",
   "execution_count": 9,
   "metadata": {
    "ExecuteTime": {
     "end_time": "2020-08-05T01:00:50.982981Z",
     "start_time": "2020-08-05T01:00:50.954060Z"
    }
   },
   "outputs": [
    {
     "data": {
      "text/html": [
       "<div>\n",
       "<style scoped>\n",
       "    .dataframe tbody tr th:only-of-type {\n",
       "        vertical-align: middle;\n",
       "    }\n",
       "\n",
       "    .dataframe tbody tr th {\n",
       "        vertical-align: top;\n",
       "    }\n",
       "\n",
       "    .dataframe thead th {\n",
       "        text-align: right;\n",
       "    }\n",
       "</style>\n",
       "<table border=\"1\" class=\"dataframe\">\n",
       "  <thead>\n",
       "    <tr style=\"text-align: right;\">\n",
       "      <th></th>\n",
       "      <th>Date_Collected</th>\n",
       "      <th>Component_Name</th>\n",
       "      <th>Site_ID</th>\n",
       "      <th>Site_Name</th>\n",
       "      <th>Latitude_DD</th>\n",
       "      <th>Longitude_DD</th>\n",
       "      <th>Reporting_Result</th>\n",
       "      <th>Unit_Abbreviation</th>\n",
       "    </tr>\n",
       "  </thead>\n",
       "  <tbody>\n",
       "    <tr>\n",
       "      <th>30</th>\n",
       "      <td>7/25/1995</td>\n",
       "      <td>Escherichia coli</td>\n",
       "      <td>591S</td>\n",
       "      <td>Rt. 9 Gaging Station</td>\n",
       "      <td>42.3165</td>\n",
       "      <td>-71.2281</td>\n",
       "      <td>270.0</td>\n",
       "      <td>cfu/100ml</td>\n",
       "    </tr>\n",
       "    <tr>\n",
       "      <th>39</th>\n",
       "      <td>7/25/1995</td>\n",
       "      <td>Escherichia coli</td>\n",
       "      <td>229S</td>\n",
       "      <td>Rt. 115, Baltimore St.</td>\n",
       "      <td>42.1433</td>\n",
       "      <td>-71.3493</td>\n",
       "      <td>380.0</td>\n",
       "      <td>cfu/100ml</td>\n",
       "    </tr>\n",
       "  </tbody>\n",
       "</table>\n",
       "</div>"
      ],
      "text/plain": [
       "   Date_Collected    Component_Name Site_ID               Site_Name  \\\n",
       "30      7/25/1995  Escherichia coli    591S    Rt. 9 Gaging Station   \n",
       "39      7/25/1995  Escherichia coli    229S  Rt. 115, Baltimore St.   \n",
       "\n",
       "    Latitude_DD  Longitude_DD  Reporting_Result Unit_Abbreviation  \n",
       "30      42.3165      -71.2281             270.0         cfu/100ml  \n",
       "39      42.1433      -71.3493             380.0         cfu/100ml  "
      ]
     },
     "execution_count": 9,
     "metadata": {},
     "output_type": "execute_result"
    }
   ],
   "source": [
    "df = df[['Date_Collected', 'Component_Name',\n",
    "         'Site_ID', 'Site_Name', 'Latitude_DD', 'Longitude_DD',\n",
    "         'Reporting_Result', 'Unit_Abbreviation']]\n",
    "df.head(2)"
   ]
  },
  {
   "cell_type": "code",
   "execution_count": 10,
   "metadata": {
    "ExecuteTime": {
     "end_time": "2020-08-05T01:00:51.021363Z",
     "start_time": "2020-08-05T01:00:50.988975Z"
    }
   },
   "outputs": [],
   "source": [
    "# Get coordinates of the sites\n",
    "coordinates = []\n",
    "for row in df.pivot_table(index=['Latitude_DD', 'Longitude_DD']).index:\n",
    "    coordinates.append(row)\n",
    "coordinates = set(coordinates)"
   ]
  },
  {
   "cell_type": "code",
   "execution_count": 11,
   "metadata": {
    "ExecuteTime": {
     "end_time": "2020-08-05T01:03:28.766085Z",
     "start_time": "2020-08-05T01:00:51.031331Z"
    }
   },
   "outputs": [
    {
     "name": "stdout",
     "output_type": "stream",
     "text": [
      "Loading formatted geocoded file...\n"
     ]
    }
   ],
   "source": [
    "# Get town names based on coordinates\n",
    "towns = []\n",
    "for coor in coordinates: # This takes about 3 minutes\n",
    "    towns.append(rg.search(coor)[0]['name'])"
   ]
  },
  {
   "cell_type": "code",
   "execution_count": 12,
   "metadata": {
    "ExecuteTime": {
     "end_time": "2020-08-05T01:03:28.774451Z",
     "start_time": "2020-08-05T01:03:28.768075Z"
    }
   },
   "outputs": [],
   "source": [
    "# Make a dataframe with Latitude, Longitude and Town names\n",
    "df_town = pd.DataFrame(data = coordinates, columns=['Latitude_DD', 'Longitude_DD'])"
   ]
  },
  {
   "cell_type": "code",
   "execution_count": 13,
   "metadata": {
    "ExecuteTime": {
     "end_time": "2020-08-05T01:03:28.793386Z",
     "start_time": "2020-08-05T01:03:28.779424Z"
    }
   },
   "outputs": [
    {
     "data": {
      "text/html": [
       "<div>\n",
       "<style scoped>\n",
       "    .dataframe tbody tr th:only-of-type {\n",
       "        vertical-align: middle;\n",
       "    }\n",
       "\n",
       "    .dataframe tbody tr th {\n",
       "        vertical-align: top;\n",
       "    }\n",
       "\n",
       "    .dataframe thead th {\n",
       "        text-align: right;\n",
       "    }\n",
       "</style>\n",
       "<table border=\"1\" class=\"dataframe\">\n",
       "  <thead>\n",
       "    <tr style=\"text-align: right;\">\n",
       "      <th></th>\n",
       "      <th>Latitude_DD</th>\n",
       "      <th>Longitude_DD</th>\n",
       "      <th>Town</th>\n",
       "    </tr>\n",
       "  </thead>\n",
       "  <tbody>\n",
       "    <tr>\n",
       "      <th>0</th>\n",
       "      <td>42.28221</td>\n",
       "      <td>-71.18829</td>\n",
       "      <td>Needham</td>\n",
       "    </tr>\n",
       "    <tr>\n",
       "      <th>1</th>\n",
       "      <td>42.36240</td>\n",
       "      <td>-71.15070</td>\n",
       "      <td>Watertown</td>\n",
       "    </tr>\n",
       "  </tbody>\n",
       "</table>\n",
       "</div>"
      ],
      "text/plain": [
       "   Latitude_DD  Longitude_DD       Town\n",
       "0     42.28221     -71.18829    Needham\n",
       "1     42.36240     -71.15070  Watertown"
      ]
     },
     "execution_count": 13,
     "metadata": {},
     "output_type": "execute_result"
    }
   ],
   "source": [
    "df_town['Town'] = towns\n",
    "df_town.head(2)"
   ]
  },
  {
   "cell_type": "code",
   "execution_count": 14,
   "metadata": {
    "ExecuteTime": {
     "end_time": "2020-08-05T01:03:28.824302Z",
     "start_time": "2020-08-05T01:03:28.796381Z"
    }
   },
   "outputs": [],
   "source": [
    "df = df.merge(df_town, on=['Latitude_DD', 'Longitude_DD'], how='left')"
   ]
  },
  {
   "cell_type": "code",
   "execution_count": 15,
   "metadata": {
    "ExecuteTime": {
     "end_time": "2020-08-05T01:03:28.846257Z",
     "start_time": "2020-08-05T01:03:28.827296Z"
    }
   },
   "outputs": [
    {
     "data": {
      "text/plain": [
       "Date_Collected         0\n",
       "Component_Name         0\n",
       "Site_ID                0\n",
       "Site_Name            119\n",
       "Latitude_DD          742\n",
       "Longitude_DD         742\n",
       "Reporting_Result       0\n",
       "Unit_Abbreviation      0\n",
       "Town                 742\n",
       "dtype: int64"
      ]
     },
     "execution_count": 15,
     "metadata": {},
     "output_type": "execute_result"
    }
   ],
   "source": [
    "# Check Null value\n",
    "# We don't have the record of the Site_Name/ lat & long in Access DB\n",
    "# for the sites with Site_ID but without Site_Name/ lat & long\n",
    "df.isnull().sum()"
   ]
  },
  {
   "cell_type": "code",
   "execution_count": 16,
   "metadata": {
    "ExecuteTime": {
     "end_time": "2020-08-05T01:03:28.865206Z",
     "start_time": "2020-08-05T01:03:28.853232Z"
    }
   },
   "outputs": [
    {
     "data": {
      "text/plain": [
       "(15640, 9)"
      ]
     },
     "execution_count": 16,
     "metadata": {},
     "output_type": "execute_result"
    }
   ],
   "source": [
    "df.shape"
   ]
  },
  {
   "cell_type": "code",
   "execution_count": 17,
   "metadata": {
    "ExecuteTime": {
     "end_time": "2020-08-05T01:03:28.884124Z",
     "start_time": "2020-08-05T01:03:28.868703Z"
    },
    "scrolled": true
   },
   "outputs": [],
   "source": [
    "# Drop rows where site name or coordinate is Null (they're null in access table)\n",
    "df.drop(df[df['Latitude_DD'].isnull()].index, axis=0, inplace=True)"
   ]
  },
  {
   "cell_type": "code",
   "execution_count": 18,
   "metadata": {
    "ExecuteTime": {
     "end_time": "2020-08-05T01:03:28.904072Z",
     "start_time": "2020-08-05T01:03:28.888112Z"
    }
   },
   "outputs": [
    {
     "data": {
      "text/plain": [
       "Date_Collected       0\n",
       "Component_Name       0\n",
       "Site_ID              0\n",
       "Site_Name            0\n",
       "Latitude_DD          0\n",
       "Longitude_DD         0\n",
       "Reporting_Result     0\n",
       "Unit_Abbreviation    0\n",
       "Town                 0\n",
       "dtype: int64"
      ]
     },
     "execution_count": 18,
     "metadata": {},
     "output_type": "execute_result"
    }
   ],
   "source": [
    "df.isnull().sum()"
   ]
  },
  {
   "cell_type": "code",
   "execution_count": 19,
   "metadata": {
    "ExecuteTime": {
     "end_time": "2020-08-05T01:03:28.916044Z",
     "start_time": "2020-08-05T01:03:28.907061Z"
    }
   },
   "outputs": [
    {
     "data": {
      "text/plain": [
       "(14898, 9)"
      ]
     },
     "execution_count": 19,
     "metadata": {},
     "output_type": "execute_result"
    }
   ],
   "source": [
    "df.shape"
   ]
  },
  {
   "cell_type": "code",
   "execution_count": 20,
   "metadata": {
    "ExecuteTime": {
     "end_time": "2020-08-05T01:03:28.926010Z",
     "start_time": "2020-08-05T01:03:28.921032Z"
    }
   },
   "outputs": [],
   "source": [
    "# Save data respectively by component name\n",
    "# for category in categories:\n",
    "#     df[df['Component_Name']==category].to_csv('data_'+category+'.csv')"
   ]
  },
  {
   "cell_type": "code",
   "execution_count": 21,
   "metadata": {
    "ExecuteTime": {
     "end_time": "2020-08-05T01:03:28.936980Z",
     "start_time": "2020-08-05T01:03:28.929002Z"
    }
   },
   "outputs": [],
   "source": [
    "# Add a column for pie chart\n",
    "df_ecoli = df[df['Component_Name']=='Escherichia coli']"
   ]
  },
  {
   "cell_type": "code",
   "execution_count": 26,
   "metadata": {
    "ExecuteTime": {
     "end_time": "2020-08-05T01:15:47.411717Z",
     "start_time": "2020-08-05T01:15:47.402227Z"
    }
   },
   "outputs": [
    {
     "name": "stderr",
     "output_type": "stream",
     "text": [
      "C:\\Users\\jjing\\Anaconda3\\lib\\site-packages\\ipykernel_launcher.py:1: SettingWithCopyWarning: \n",
      "A value is trying to be set on a copy of a slice from a DataFrame.\n",
      "Try using .loc[row_indexer,col_indexer] = value instead\n",
      "\n",
      "See the caveats in the documentation: http://pandas.pydata.org/pandas-docs/stable/user_guide/indexing.html#returning-a-view-versus-a-copy\n",
      "  \"\"\"Entry point for launching an IPython kernel.\n"
     ]
    }
   ],
   "source": [
    "df_ecoli['Safety'] = df_ecoli['Reporting_Result']"
   ]
  },
  {
   "cell_type": "code",
   "execution_count": 27,
   "metadata": {
    "ExecuteTime": {
     "end_time": "2020-08-05T01:15:48.701300Z",
     "start_time": "2020-08-05T01:15:48.686311Z"
    },
    "scrolled": true
   },
   "outputs": [
    {
     "name": "stderr",
     "output_type": "stream",
     "text": [
      "C:\\Users\\jjing\\Anaconda3\\lib\\site-packages\\ipykernel_launcher.py:1: SettingWithCopyWarning: \n",
      "A value is trying to be set on a copy of a slice from a DataFrame.\n",
      "Try using .loc[row_indexer,col_indexer] = value instead\n",
      "\n",
      "See the caveats in the documentation: http://pandas.pydata.org/pandas-docs/stable/user_guide/indexing.html#returning-a-view-versus-a-copy\n",
      "  \"\"\"Entry point for launching an IPython kernel.\n"
     ]
    }
   ],
   "source": [
    "df_ecoli['Safety'] = pd.cut(df_ecoli['Safety'], [-1, 235, 1260, 1000000], labels=['Safe', 'No Swimming', 'Not safe for activities'])"
   ]
  },
  {
   "cell_type": "code",
   "execution_count": 28,
   "metadata": {
    "ExecuteTime": {
     "end_time": "2020-08-05T01:15:50.929866Z",
     "start_time": "2020-08-05T01:15:50.905905Z"
    }
   },
   "outputs": [
    {
     "data": {
      "text/html": [
       "<div>\n",
       "<style scoped>\n",
       "    .dataframe tbody tr th:only-of-type {\n",
       "        vertical-align: middle;\n",
       "    }\n",
       "\n",
       "    .dataframe tbody tr th {\n",
       "        vertical-align: top;\n",
       "    }\n",
       "\n",
       "    .dataframe thead th {\n",
       "        text-align: right;\n",
       "    }\n",
       "</style>\n",
       "<table border=\"1\" class=\"dataframe\">\n",
       "  <thead>\n",
       "    <tr style=\"text-align: right;\">\n",
       "      <th></th>\n",
       "      <th>Date_Collected</th>\n",
       "      <th>Component_Name</th>\n",
       "      <th>Site_ID</th>\n",
       "      <th>Site_Name</th>\n",
       "      <th>Latitude_DD</th>\n",
       "      <th>Longitude_DD</th>\n",
       "      <th>Reporting_Result</th>\n",
       "      <th>Unit_Abbreviation</th>\n",
       "      <th>Town</th>\n",
       "      <th>Safety</th>\n",
       "    </tr>\n",
       "  </thead>\n",
       "  <tbody>\n",
       "    <tr>\n",
       "      <th>0</th>\n",
       "      <td>7/25/1995</td>\n",
       "      <td>Escherichia coli</td>\n",
       "      <td>591S</td>\n",
       "      <td>Rt. 9 Gaging Station</td>\n",
       "      <td>42.3165</td>\n",
       "      <td>-71.2281</td>\n",
       "      <td>270.0</td>\n",
       "      <td>cfu/100ml</td>\n",
       "      <td>Newton</td>\n",
       "      <td>No Swimming</td>\n",
       "    </tr>\n",
       "    <tr>\n",
       "      <th>1</th>\n",
       "      <td>7/25/1995</td>\n",
       "      <td>Escherichia coli</td>\n",
       "      <td>229S</td>\n",
       "      <td>Rt. 115, Baltimore St.</td>\n",
       "      <td>42.1433</td>\n",
       "      <td>-71.3493</td>\n",
       "      <td>380.0</td>\n",
       "      <td>cfu/100ml</td>\n",
       "      <td>Millis-Clicquot</td>\n",
       "      <td>No Swimming</td>\n",
       "    </tr>\n",
       "    <tr>\n",
       "      <th>2</th>\n",
       "      <td>7/25/1995</td>\n",
       "      <td>Escherichia coli</td>\n",
       "      <td>35CS</td>\n",
       "      <td>Central Street Bridge</td>\n",
       "      <td>42.1395</td>\n",
       "      <td>-71.5123</td>\n",
       "      <td>414000.0</td>\n",
       "      <td>cfu/100ml</td>\n",
       "      <td>Milford</td>\n",
       "      <td>Not safe for activities</td>\n",
       "    </tr>\n",
       "    <tr>\n",
       "      <th>3</th>\n",
       "      <td>7/25/1995</td>\n",
       "      <td>Escherichia coli</td>\n",
       "      <td>387S</td>\n",
       "      <td>Elm Bank / Cheney Dr. Bridge</td>\n",
       "      <td>42.2757</td>\n",
       "      <td>-71.3095</td>\n",
       "      <td>440.0</td>\n",
       "      <td>cfu/100ml</td>\n",
       "      <td>Wellesley</td>\n",
       "      <td>No Swimming</td>\n",
       "    </tr>\n",
       "    <tr>\n",
       "      <th>4</th>\n",
       "      <td>7/25/1995</td>\n",
       "      <td>Escherichia coli</td>\n",
       "      <td>447S</td>\n",
       "      <td>USGS Dover Gage, Mill St.</td>\n",
       "      <td>42.2563</td>\n",
       "      <td>-71.2596</td>\n",
       "      <td>40.0</td>\n",
       "      <td>cfu/100ml</td>\n",
       "      <td>Dover</td>\n",
       "      <td>Safe</td>\n",
       "    </tr>\n",
       "  </tbody>\n",
       "</table>\n",
       "</div>"
      ],
      "text/plain": [
       "  Date_Collected    Component_Name Site_ID                     Site_Name  \\\n",
       "0      7/25/1995  Escherichia coli    591S          Rt. 9 Gaging Station   \n",
       "1      7/25/1995  Escherichia coli    229S        Rt. 115, Baltimore St.   \n",
       "2      7/25/1995  Escherichia coli    35CS         Central Street Bridge   \n",
       "3      7/25/1995  Escherichia coli    387S  Elm Bank / Cheney Dr. Bridge   \n",
       "4      7/25/1995  Escherichia coli    447S     USGS Dover Gage, Mill St.   \n",
       "\n",
       "   Latitude_DD  Longitude_DD  Reporting_Result Unit_Abbreviation  \\\n",
       "0      42.3165      -71.2281             270.0         cfu/100ml   \n",
       "1      42.1433      -71.3493             380.0         cfu/100ml   \n",
       "2      42.1395      -71.5123          414000.0         cfu/100ml   \n",
       "3      42.2757      -71.3095             440.0         cfu/100ml   \n",
       "4      42.2563      -71.2596              40.0         cfu/100ml   \n",
       "\n",
       "              Town                   Safety  \n",
       "0           Newton              No Swimming  \n",
       "1  Millis-Clicquot              No Swimming  \n",
       "2          Milford  Not safe for activities  \n",
       "3        Wellesley              No Swimming  \n",
       "4            Dover                     Safe  "
      ]
     },
     "execution_count": 28,
     "metadata": {},
     "output_type": "execute_result"
    }
   ],
   "source": [
    "df_ecoli.head()"
   ]
  },
  {
   "cell_type": "code",
   "execution_count": 29,
   "metadata": {
    "ExecuteTime": {
     "end_time": "2020-08-05T01:15:52.166911Z",
     "start_time": "2020-08-05T01:15:52.055722Z"
    }
   },
   "outputs": [],
   "source": [
    "df_ecoli.to_csv('data_EColi_w_safety.csv')"
   ]
  },
  {
   "cell_type": "code",
   "execution_count": 30,
   "metadata": {
    "ExecuteTime": {
     "end_time": "2020-08-05T01:15:55.105243Z",
     "start_time": "2020-08-05T01:15:55.097593Z"
    }
   },
   "outputs": [
    {
     "data": {
      "text/plain": [
       "(12019, 10)"
      ]
     },
     "execution_count": 30,
     "metadata": {},
     "output_type": "execute_result"
    }
   ],
   "source": [
    "df_ecoli.shape"
   ]
  }
 ],
 "metadata": {
  "kernelspec": {
   "display_name": "Python 3",
   "language": "python",
   "name": "python3"
  },
  "language_info": {
   "codemirror_mode": {
    "name": "ipython",
    "version": 3
   },
   "file_extension": ".py",
   "mimetype": "text/x-python",
   "name": "python",
   "nbconvert_exporter": "python",
   "pygments_lexer": "ipython3",
   "version": "3.7.4"
  }
 },
 "nbformat": 4,
 "nbformat_minor": 2
}
