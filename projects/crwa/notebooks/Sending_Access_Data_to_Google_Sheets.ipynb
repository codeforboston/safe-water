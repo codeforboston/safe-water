{
  "nbformat": 4,
  "nbformat_minor": 0,
  "metadata": {
    "colab": {
      "name": "Sending Access Data to Google Sheets",
      "provenance": [],
      "collapsed_sections": [
        "YyjTdBi-kEby"
      ]
    },
    "kernelspec": {
      "name": "python3",
      "display_name": "Python 3"
    }
  },
  "cells": [
    {
      "cell_type": "markdown",
      "metadata": {
        "id": "-Nes9W8xbMjA"
      },
      "source": [
        "# Updating E.Coli data for CRWA's visualization "
      ]
    },
    {
      "cell_type": "markdown",
      "metadata": {
        "id": "D5QctjuCKR-a"
      },
      "source": [
        "Approach:\n",
        "1. There is a google spreadsheet that is connected to ArcGis which is used as the main database. This database will be updated with new data through this code.\n",
        "2. The new data will be pulled through an Access Query. The file must be named the same as in the code.  \n",
        "3. By running this code the current data on google spreadsheet will be cleared and replaced with the updated & formated data. \n",
        "4. ArcGis should then be updated with the new data. \n",
        "5. Data will also be archived in Google Drive. The downloadble data file will also be created. "
      ]
    },
    {
      "cell_type": "markdown",
      "metadata": {
        "id": "raGPM58245NQ"
      },
      "source": [
        "Steps to run code:\n",
        "\n",
        "1.   Export data from Access as csv and store in local folder. Make sure the file is named \"DataVizPipeline.xlsx\". \n",
        "2.   In runtime column press \"Run all\"\n",
        "3.   Scroll down and follow code:\n",
        "  1. In the allowing access to Google Drive / Google Sheet section, click on the generated link which will open a new tab. In the new tab select the google account and click \"allow\". Then copy the verification code and paste into intial section of this notebook. \n",
        "  2. In the file upload section, click on \"choose files\" and select the newly exported access data. \n",
        "   \n",
        "Notes:\n",
        "* Make sure that there are the following spreadsheets already created in the google dirve:\n",
        "  * E.Coli Database for ArcGis\n",
        "  * data_site\n",
        "* Make sure the outputs are pointed to correct location:\n",
        "  * i.e. Folder for archiving data is set to \"E.Coli Data\" initally but can be changed to any other location. \n",
        "* \n"
      ]
    },
    {
      "cell_type": "markdown",
      "metadata": {
        "id": "OPxA4dE6qy3z"
      },
      "source": [
        "# Initializing Libraries "
      ]
    },
    {
      "cell_type": "code",
      "metadata": {
        "id": "f-HTnWXeGm6_",
        "colab": {
          "base_uri": "https://localhost:8080/"
        },
        "outputId": "3abe72b3-66e3-4158-e017-d5df2416cf16"
      },
      "source": [
        "#Installing Reverse Geocoder for coordinates mapping\n",
        "!pip install reverse_geocoder"
      ],
      "execution_count": 50,
      "outputs": [
        {
          "output_type": "stream",
          "text": [
            "Requirement already satisfied: reverse_geocoder in /usr/local/lib/python3.6/dist-packages (1.5.1)\n",
            "Requirement already satisfied: numpy>=1.11.0 in /usr/local/lib/python3.6/dist-packages (from reverse_geocoder) (1.19.5)\n",
            "Requirement already satisfied: scipy>=0.17.1 in /usr/local/lib/python3.6/dist-packages (from reverse_geocoder) (1.4.1)\n"
          ],
          "name": "stdout"
        }
      ]
    },
    {
      "cell_type": "code",
      "metadata": {
        "id": "Xs6PyW7l8rNI"
      },
      "source": [
        "# Importing libraries\n",
        "import pandas as pd\n",
        "import numpy as np\n",
        "from datetime import date\n",
        "\n",
        "from oauth2client.client import GoogleCredentials\n",
        "from google.colab import files\n",
        "from google.colab import auth\n",
        "from google.colab import drive\n",
        "import io\n",
        "\n",
        "import reverse_geocoder as rg\n",
        "\n",
        "import gspread\n",
        "from gspread_dataframe import set_with_dataframe\n",
        "\n",
        "import warnings\n",
        "warnings.filterwarnings('ignore')"
      ],
      "execution_count": 51,
      "outputs": []
    },
    {
      "cell_type": "markdown",
      "metadata": {
        "id": "o6zLO9jHJp7q"
      },
      "source": [
        "# Allowing Access to Google Drive / Google Sheet"
      ]
    },
    {
      "cell_type": "code",
      "metadata": {
        "id": "Mdb7yhzF9A1S"
      },
      "source": [
        "# Allowing access to Google Drive / Google Sheet\n",
        "# Follow instructions to allow access: copy the code from new tab into box below and press enter to confirm. Will need to perform this action each time it is prompted.\n",
        "auth.authenticate_user()"
      ],
      "execution_count": 52,
      "outputs": []
    },
    {
      "cell_type": "markdown",
      "metadata": {
        "id": "09_D5oYsj_iB"
      },
      "source": [
        "# File Upload"
      ]
    },
    {
      "cell_type": "code",
      "metadata": {
        "id": "D4C1ualA4W6g",
        "colab": {
          "resources": {
            "http://localhost:8080/nbextensions/google.colab/files.js": {
              "data": "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",
              "ok": true,
              "headers": [
                [
                  "content-type",
                  "application/javascript"
                ]
              ],
              "status": 200,
              "status_text": ""
            }
          },
          "base_uri": "https://localhost:8080/",
          "height": 72
        },
        "outputId": "4854b0f0-9929-44ee-91fa-7c3777749c92"
      },
      "source": [
        "# Upload access data into google colab\n",
        "uploaded = files.upload()"
      ],
      "execution_count": 53,
      "outputs": [
        {
          "output_type": "display_data",
          "data": {
            "text/html": [
              "\n",
              "     <input type=\"file\" id=\"files-afbe8c3c-52df-4746-a8a4-1787fa4eb7ce\" name=\"files[]\" multiple disabled\n",
              "        style=\"border:none\" />\n",
              "     <output id=\"result-afbe8c3c-52df-4746-a8a4-1787fa4eb7ce\">\n",
              "      Upload widget is only available when the cell has been executed in the\n",
              "      current browser session. Please rerun this cell to enable.\n",
              "      </output>\n",
              "      <script src=\"/nbextensions/google.colab/files.js\"></script> "
            ],
            "text/plain": [
              "<IPython.core.display.HTML object>"
            ]
          },
          "metadata": {
            "tags": []
          }
        },
        {
          "output_type": "stream",
          "text": [
            "Saving DataVizPipeline.xlsx to DataVizPipeline (1).xlsx\n"
          ],
          "name": "stdout"
        }
      ]
    },
    {
      "cell_type": "code",
      "metadata": {
        "id": "R3rgEyfm8pMs",
        "colab": {
          "base_uri": "https://localhost:8080/",
          "height": 428
        },
        "outputId": "5d09bbf4-46f7-4d4e-d95a-d6fa5465573d"
      },
      "source": [
        "# Importing data into dataframe to be manipulated \n",
        "df = pd.read_excel(io.BytesIO(uploaded['DataVizPipeline.xlsx']))\n",
        "\n",
        "# Alternative code to import CSV\n",
        "# df = pd.read_csv(io.BytesIO(uploaded['DataVizPipeline.csv']))\n",
        "\n",
        "# Check\n",
        "df.head()"
      ],
      "execution_count": 54,
      "outputs": [
        {
          "output_type": "execute_result",
          "data": {
            "text/html": [
              "<div>\n",
              "<style scoped>\n",
              "    .dataframe tbody tr th:only-of-type {\n",
              "        vertical-align: middle;\n",
              "    }\n",
              "\n",
              "    .dataframe tbody tr th {\n",
              "        vertical-align: top;\n",
              "    }\n",
              "\n",
              "    .dataframe thead th {\n",
              "        text-align: right;\n",
              "    }\n",
              "</style>\n",
              "<table border=\"1\" class=\"dataframe\">\n",
              "  <thead>\n",
              "    <tr style=\"text-align: right;\">\n",
              "      <th></th>\n",
              "      <th>Monitoring_Sites.Site_ID</th>\n",
              "      <th>Latitude_DD</th>\n",
              "      <th>Longitude_DD</th>\n",
              "      <th>River_Mile_Headwaters</th>\n",
              "      <th>Activity_ID</th>\n",
              "      <th>Results.Site_ID</th>\n",
              "      <th>Reporting_Result</th>\n",
              "      <th>Component_Name</th>\n",
              "      <th>Activity_Type</th>\n",
              "      <th>Unit_Abbreviation</th>\n",
              "      <th>Date_Collected</th>\n",
              "      <th>Time_Collected</th>\n",
              "      <th>QAQC_Status</th>\n",
              "      <th>Site_Name</th>\n",
              "      <th>Town</th>\n",
              "    </tr>\n",
              "  </thead>\n",
              "  <tbody>\n",
              "    <tr>\n",
              "      <th>0</th>\n",
              "      <td>1NBS</td>\n",
              "      <td>42.3589</td>\n",
              "      <td>-71.1619</td>\n",
              "      <td>NaN</td>\n",
              "      <td>FLG201806261NBSEC01</td>\n",
              "      <td>1NBS</td>\n",
              "      <td>3200.0</td>\n",
              "      <td>Escherichia coli</td>\n",
              "      <td>Sample-Routine</td>\n",
              "      <td>cfu/100ml</td>\n",
              "      <td>2018-06-26</td>\n",
              "      <td>09:42:00</td>\n",
              "      <td>Final/Accepted</td>\n",
              "      <td>North Beacon St. Bridge-Center</td>\n",
              "      <td>Watertown</td>\n",
              "    </tr>\n",
              "    <tr>\n",
              "      <th>1</th>\n",
              "      <td>2LARZ</td>\n",
              "      <td>42.3691</td>\n",
              "      <td>-71.1235</td>\n",
              "      <td>NaN</td>\n",
              "      <td>FLG201806262LARZEC01</td>\n",
              "      <td>2LARZ</td>\n",
              "      <td>1530.0</td>\n",
              "      <td>Escherichia coli</td>\n",
              "      <td>Sample-Routine</td>\n",
              "      <td>cfu/100ml</td>\n",
              "      <td>2018-06-26</td>\n",
              "      <td>09:10:00</td>\n",
              "      <td>Final/Accepted</td>\n",
              "      <td>Larz Anderson Bridge-Center</td>\n",
              "      <td>Cambridge</td>\n",
              "    </tr>\n",
              "    <tr>\n",
              "      <th>2</th>\n",
              "      <td>3BU</td>\n",
              "      <td>42.3526</td>\n",
              "      <td>-71.1112</td>\n",
              "      <td>NaN</td>\n",
              "      <td>FLG201806263BUEC01</td>\n",
              "      <td>3BU</td>\n",
              "      <td>320.0</td>\n",
              "      <td>Escherichia coli</td>\n",
              "      <td>Sample-Routine</td>\n",
              "      <td>cfu/100ml</td>\n",
              "      <td>2018-06-26</td>\n",
              "      <td>08:50:00</td>\n",
              "      <td>Final/Accepted</td>\n",
              "      <td>BU Bridge-Center</td>\n",
              "      <td>Cambridge</td>\n",
              "    </tr>\n",
              "    <tr>\n",
              "      <th>3</th>\n",
              "      <td>4LONG</td>\n",
              "      <td>42.3611</td>\n",
              "      <td>-71.0758</td>\n",
              "      <td>NaN</td>\n",
              "      <td>FLG201806264LONGEC01</td>\n",
              "      <td>4LONG</td>\n",
              "      <td>120.0</td>\n",
              "      <td>Escherichia coli</td>\n",
              "      <td>Sample-Routine</td>\n",
              "      <td>cfu/100ml</td>\n",
              "      <td>2018-06-26</td>\n",
              "      <td>08:03:00</td>\n",
              "      <td>Final/Accepted</td>\n",
              "      <td>Longfellow Bridge-Center</td>\n",
              "      <td>Cambridge</td>\n",
              "    </tr>\n",
              "    <tr>\n",
              "      <th>4</th>\n",
              "      <td>1NBS</td>\n",
              "      <td>42.3589</td>\n",
              "      <td>-71.1619</td>\n",
              "      <td>NaN</td>\n",
              "      <td>FLG201806281NBSEC01</td>\n",
              "      <td>1NBS</td>\n",
              "      <td>250.0</td>\n",
              "      <td>Escherichia coli</td>\n",
              "      <td>Sample-Routine</td>\n",
              "      <td>cfu/100ml</td>\n",
              "      <td>2018-06-28</td>\n",
              "      <td>08:56:00</td>\n",
              "      <td>Final/Accepted</td>\n",
              "      <td>North Beacon St. Bridge-Center</td>\n",
              "      <td>Watertown</td>\n",
              "    </tr>\n",
              "  </tbody>\n",
              "</table>\n",
              "</div>"
            ],
            "text/plain": [
              "  Monitoring_Sites.Site_ID  ...       Town\n",
              "0                     1NBS  ...  Watertown\n",
              "1                    2LARZ  ...  Cambridge\n",
              "2                      3BU  ...  Cambridge\n",
              "3                    4LONG  ...  Cambridge\n",
              "4                     1NBS  ...  Watertown\n",
              "\n",
              "[5 rows x 15 columns]"
            ]
          },
          "metadata": {
            "tags": []
          },
          "execution_count": 54
        }
      ]
    },
    {
      "cell_type": "markdown",
      "metadata": {
        "id": "YyjTdBi-kEby"
      },
      "source": [
        "# Data Manipulation"
      ]
    },
    {
      "cell_type": "code",
      "metadata": {
        "id": "YXVY8LnrjitY"
      },
      "source": [
        "# Formating/processing data into usuable/correct format\n",
        "\n",
        "# Selecting columns to be used\n",
        "df_proc = df[['Date_Collected', 'Component_Name', 'Results.Site_ID', 'Site_Name', 'Latitude_DD', 'Longitude_DD', 'Reporting_Result', 'Unit_Abbreviation']]\n",
        "\n",
        "# Renaming the Site ID column\n",
        "df_proc.rename(columns = {'Results.Site_ID':'Site_ID'}, inplace = True)"
      ],
      "execution_count": 55,
      "outputs": []
    },
    {
      "cell_type": "code",
      "metadata": {
        "id": "jjqL9iZW9KwC",
        "colab": {
          "base_uri": "https://localhost:8080/"
        },
        "outputId": "d5e67829-a695-486b-ef0a-4334f32c563e"
      },
      "source": [
        "#Finding number of unique values within the column to see if there is erronious data\n",
        "for i in df_proc.columns:\n",
        "    print(i)\n",
        "    print(df_proc[i].nunique())"
      ],
      "execution_count": 56,
      "outputs": [
        {
          "output_type": "stream",
          "text": [
            "Date_Collected\n",
            "193\n",
            "Component_Name\n",
            "2\n",
            "Site_ID\n",
            "44\n",
            "Site_Name\n",
            "43\n",
            "Latitude_DD\n",
            "38\n",
            "Longitude_DD\n",
            "39\n",
            "Reporting_Result\n",
            "469\n",
            "Unit_Abbreviation\n",
            "2\n"
          ],
          "name": "stdout"
        }
      ]
    },
    {
      "cell_type": "code",
      "metadata": {
        "id": "_9UMmunF9es2",
        "colab": {
          "base_uri": "https://localhost:8080/"
        },
        "outputId": "9785c295-df25-41fb-f19f-98db27fba015"
      },
      "source": [
        "# Finding unique values within column \n",
        "print(df_proc['Component_Name'].unique())\n",
        "print(df_proc['Unit_Abbreviation'].unique())"
      ],
      "execution_count": 57,
      "outputs": [
        {
          "output_type": "stream",
          "text": [
            "['Escherichia coli' 'Fecal coliform']\n",
            "['cfu/100ml' 'MPN/100ml']\n"
          ],
          "name": "stdout"
        }
      ]
    },
    {
      "cell_type": "markdown",
      "metadata": {
        "id": "0RYikyyRYqDK"
      },
      "source": [
        "Note: Component Name and Unit Abbreviation should all be the same. "
      ]
    },
    {
      "cell_type": "code",
      "metadata": {
        "id": "820aw45E7g-r",
        "colab": {
          "base_uri": "https://localhost:8080/"
        },
        "outputId": "cc9c6b96-ff9f-46c0-ca6c-9b0d685b8962"
      },
      "source": [
        "# Renaming Fecal coliform to match with Escherichia coli\n",
        "df_proc.loc[df_proc['Component_Name'] == 'Fecal coliform', 'Component_Name'] = 'Escherichia coli'\n",
        "\n",
        "# Renaming unit abbreviation to match\n",
        "df_proc.loc[df_proc['Unit_Abbreviation'] == 'MPN/100ml', 'Unit_Abbreviation'] = 'cfu/100ml'\n",
        "\n",
        "# Check\n",
        "for i in df_proc.columns:\n",
        "    print(i)\n",
        "    print(df_proc[i].nunique())"
      ],
      "execution_count": 58,
      "outputs": [
        {
          "output_type": "stream",
          "text": [
            "Date_Collected\n",
            "193\n",
            "Component_Name\n",
            "1\n",
            "Site_ID\n",
            "44\n",
            "Site_Name\n",
            "43\n",
            "Latitude_DD\n",
            "38\n",
            "Longitude_DD\n",
            "39\n",
            "Reporting_Result\n",
            "469\n",
            "Unit_Abbreviation\n",
            "1\n"
          ],
          "name": "stdout"
        }
      ]
    },
    {
      "cell_type": "code",
      "metadata": {
        "id": "frUo2mPdEp4q",
        "colab": {
          "base_uri": "https://localhost:8080/",
          "height": 0
        },
        "outputId": "371ac79a-5c22-4dd1-c855-742dbb4301fd"
      },
      "source": [
        "# Check\n",
        "df_proc.head()"
      ],
      "execution_count": 59,
      "outputs": [
        {
          "output_type": "execute_result",
          "data": {
            "text/html": [
              "<div>\n",
              "<style scoped>\n",
              "    .dataframe tbody tr th:only-of-type {\n",
              "        vertical-align: middle;\n",
              "    }\n",
              "\n",
              "    .dataframe tbody tr th {\n",
              "        vertical-align: top;\n",
              "    }\n",
              "\n",
              "    .dataframe thead th {\n",
              "        text-align: right;\n",
              "    }\n",
              "</style>\n",
              "<table border=\"1\" class=\"dataframe\">\n",
              "  <thead>\n",
              "    <tr style=\"text-align: right;\">\n",
              "      <th></th>\n",
              "      <th>Date_Collected</th>\n",
              "      <th>Component_Name</th>\n",
              "      <th>Site_ID</th>\n",
              "      <th>Site_Name</th>\n",
              "      <th>Latitude_DD</th>\n",
              "      <th>Longitude_DD</th>\n",
              "      <th>Reporting_Result</th>\n",
              "      <th>Unit_Abbreviation</th>\n",
              "    </tr>\n",
              "  </thead>\n",
              "  <tbody>\n",
              "    <tr>\n",
              "      <th>0</th>\n",
              "      <td>2018-06-26</td>\n",
              "      <td>Escherichia coli</td>\n",
              "      <td>1NBS</td>\n",
              "      <td>North Beacon St. Bridge-Center</td>\n",
              "      <td>42.3589</td>\n",
              "      <td>-71.1619</td>\n",
              "      <td>3200.0</td>\n",
              "      <td>cfu/100ml</td>\n",
              "    </tr>\n",
              "    <tr>\n",
              "      <th>1</th>\n",
              "      <td>2018-06-26</td>\n",
              "      <td>Escherichia coli</td>\n",
              "      <td>2LARZ</td>\n",
              "      <td>Larz Anderson Bridge-Center</td>\n",
              "      <td>42.3691</td>\n",
              "      <td>-71.1235</td>\n",
              "      <td>1530.0</td>\n",
              "      <td>cfu/100ml</td>\n",
              "    </tr>\n",
              "    <tr>\n",
              "      <th>2</th>\n",
              "      <td>2018-06-26</td>\n",
              "      <td>Escherichia coli</td>\n",
              "      <td>3BU</td>\n",
              "      <td>BU Bridge-Center</td>\n",
              "      <td>42.3526</td>\n",
              "      <td>-71.1112</td>\n",
              "      <td>320.0</td>\n",
              "      <td>cfu/100ml</td>\n",
              "    </tr>\n",
              "    <tr>\n",
              "      <th>3</th>\n",
              "      <td>2018-06-26</td>\n",
              "      <td>Escherichia coli</td>\n",
              "      <td>4LONG</td>\n",
              "      <td>Longfellow Bridge-Center</td>\n",
              "      <td>42.3611</td>\n",
              "      <td>-71.0758</td>\n",
              "      <td>120.0</td>\n",
              "      <td>cfu/100ml</td>\n",
              "    </tr>\n",
              "    <tr>\n",
              "      <th>4</th>\n",
              "      <td>2018-06-28</td>\n",
              "      <td>Escherichia coli</td>\n",
              "      <td>1NBS</td>\n",
              "      <td>North Beacon St. Bridge-Center</td>\n",
              "      <td>42.3589</td>\n",
              "      <td>-71.1619</td>\n",
              "      <td>250.0</td>\n",
              "      <td>cfu/100ml</td>\n",
              "    </tr>\n",
              "  </tbody>\n",
              "</table>\n",
              "</div>"
            ],
            "text/plain": [
              "  Date_Collected    Component_Name  ... Reporting_Result Unit_Abbreviation\n",
              "0     2018-06-26  Escherichia coli  ...           3200.0         cfu/100ml\n",
              "1     2018-06-26  Escherichia coli  ...           1530.0         cfu/100ml\n",
              "2     2018-06-26  Escherichia coli  ...            320.0         cfu/100ml\n",
              "3     2018-06-26  Escherichia coli  ...            120.0         cfu/100ml\n",
              "4     2018-06-28  Escherichia coli  ...            250.0         cfu/100ml\n",
              "\n",
              "[5 rows x 8 columns]"
            ]
          },
          "metadata": {
            "tags": []
          },
          "execution_count": 59
        }
      ]
    },
    {
      "cell_type": "code",
      "metadata": {
        "id": "ozzzr7nfGNXS"
      },
      "source": [
        "# Get coordinates of the sites\n",
        "coordinates = []\n",
        "for row in df_proc.pivot_table(index=['Latitude_DD', 'Longitude_DD']).index:\n",
        "    coordinates.append(row)\n",
        "coordinates = set(coordinates)\n",
        "\n",
        "# Get town names based on coordinates\n",
        "towns = []\n",
        "for coor in coordinates: # This takes about 30 seconds\n",
        "    towns.append(rg.search(coor)[0]['name'])"
      ],
      "execution_count": 60,
      "outputs": []
    },
    {
      "cell_type": "code",
      "metadata": {
        "id": "GnvZndEuG_BP",
        "colab": {
          "base_uri": "https://localhost:8080/",
          "height": 0
        },
        "outputId": "06f7e599-85c0-48c2-89b9-9c9fffed1922"
      },
      "source": [
        "# Make a dataframe with Latitude, Longitude and Town names\n",
        "df_town = pd.DataFrame(data = coordinates, columns=['Latitude_DD', 'Longitude_DD'])\n",
        "\n",
        "# Renaming column\n",
        "df_town['Town'] = towns\n",
        "\n",
        "# Check \n",
        "df_town.head()"
      ],
      "execution_count": 61,
      "outputs": [
        {
          "output_type": "execute_result",
          "data": {
            "text/html": [
              "<div>\n",
              "<style scoped>\n",
              "    .dataframe tbody tr th:only-of-type {\n",
              "        vertical-align: middle;\n",
              "    }\n",
              "\n",
              "    .dataframe tbody tr th {\n",
              "        vertical-align: top;\n",
              "    }\n",
              "\n",
              "    .dataframe thead th {\n",
              "        text-align: right;\n",
              "    }\n",
              "</style>\n",
              "<table border=\"1\" class=\"dataframe\">\n",
              "  <thead>\n",
              "    <tr style=\"text-align: right;\">\n",
              "      <th></th>\n",
              "      <th>Latitude_DD</th>\n",
              "      <th>Longitude_DD</th>\n",
              "      <th>Town</th>\n",
              "    </tr>\n",
              "  </thead>\n",
              "  <tbody>\n",
              "    <tr>\n",
              "      <th>0</th>\n",
              "      <td>42.1169</td>\n",
              "      <td>-71.5014</td>\n",
              "      <td>Milford</td>\n",
              "    </tr>\n",
              "    <tr>\n",
              "      <th>1</th>\n",
              "      <td>42.1311</td>\n",
              "      <td>-71.3768</td>\n",
              "      <td>Medway</td>\n",
              "    </tr>\n",
              "    <tr>\n",
              "      <th>2</th>\n",
              "      <td>42.1365</td>\n",
              "      <td>-71.4185</td>\n",
              "      <td>Medway</td>\n",
              "    </tr>\n",
              "    <tr>\n",
              "      <th>3</th>\n",
              "      <td>42.0943</td>\n",
              "      <td>-71.4760</td>\n",
              "      <td>Bellingham</td>\n",
              "    </tr>\n",
              "    <tr>\n",
              "      <th>4</th>\n",
              "      <td>42.1395</td>\n",
              "      <td>-71.5123</td>\n",
              "      <td>Milford</td>\n",
              "    </tr>\n",
              "  </tbody>\n",
              "</table>\n",
              "</div>"
            ],
            "text/plain": [
              "   Latitude_DD  Longitude_DD        Town\n",
              "0      42.1169      -71.5014     Milford\n",
              "1      42.1311      -71.3768      Medway\n",
              "2      42.1365      -71.4185      Medway\n",
              "3      42.0943      -71.4760  Bellingham\n",
              "4      42.1395      -71.5123     Milford"
            ]
          },
          "metadata": {
            "tags": []
          },
          "execution_count": 61
        }
      ]
    },
    {
      "cell_type": "code",
      "metadata": {
        "id": "ZorLHzPCG_Lm",
        "colab": {
          "base_uri": "https://localhost:8080/",
          "height": 0
        },
        "outputId": "4cb235eb-295b-4d3b-fe68-3d7fedf96dcf"
      },
      "source": [
        "# Adding town locations to dataset\n",
        "df_final = df_proc.merge(df_town, on=['Latitude_DD', 'Longitude_DD'], how='left')\n",
        "\n",
        "# Check \n",
        "df_final.head()"
      ],
      "execution_count": 62,
      "outputs": [
        {
          "output_type": "execute_result",
          "data": {
            "text/html": [
              "<div>\n",
              "<style scoped>\n",
              "    .dataframe tbody tr th:only-of-type {\n",
              "        vertical-align: middle;\n",
              "    }\n",
              "\n",
              "    .dataframe tbody tr th {\n",
              "        vertical-align: top;\n",
              "    }\n",
              "\n",
              "    .dataframe thead th {\n",
              "        text-align: right;\n",
              "    }\n",
              "</style>\n",
              "<table border=\"1\" class=\"dataframe\">\n",
              "  <thead>\n",
              "    <tr style=\"text-align: right;\">\n",
              "      <th></th>\n",
              "      <th>Date_Collected</th>\n",
              "      <th>Component_Name</th>\n",
              "      <th>Site_ID</th>\n",
              "      <th>Site_Name</th>\n",
              "      <th>Latitude_DD</th>\n",
              "      <th>Longitude_DD</th>\n",
              "      <th>Reporting_Result</th>\n",
              "      <th>Unit_Abbreviation</th>\n",
              "      <th>Town</th>\n",
              "    </tr>\n",
              "  </thead>\n",
              "  <tbody>\n",
              "    <tr>\n",
              "      <th>0</th>\n",
              "      <td>2018-06-26</td>\n",
              "      <td>Escherichia coli</td>\n",
              "      <td>1NBS</td>\n",
              "      <td>North Beacon St. Bridge-Center</td>\n",
              "      <td>42.3589</td>\n",
              "      <td>-71.1619</td>\n",
              "      <td>3200.0</td>\n",
              "      <td>cfu/100ml</td>\n",
              "      <td>Watertown</td>\n",
              "    </tr>\n",
              "    <tr>\n",
              "      <th>1</th>\n",
              "      <td>2018-06-26</td>\n",
              "      <td>Escherichia coli</td>\n",
              "      <td>2LARZ</td>\n",
              "      <td>Larz Anderson Bridge-Center</td>\n",
              "      <td>42.3691</td>\n",
              "      <td>-71.1235</td>\n",
              "      <td>1530.0</td>\n",
              "      <td>cfu/100ml</td>\n",
              "      <td>Cambridge</td>\n",
              "    </tr>\n",
              "    <tr>\n",
              "      <th>2</th>\n",
              "      <td>2018-06-26</td>\n",
              "      <td>Escherichia coli</td>\n",
              "      <td>3BU</td>\n",
              "      <td>BU Bridge-Center</td>\n",
              "      <td>42.3526</td>\n",
              "      <td>-71.1112</td>\n",
              "      <td>320.0</td>\n",
              "      <td>cfu/100ml</td>\n",
              "      <td>Brookline</td>\n",
              "    </tr>\n",
              "    <tr>\n",
              "      <th>3</th>\n",
              "      <td>2018-06-26</td>\n",
              "      <td>Escherichia coli</td>\n",
              "      <td>4LONG</td>\n",
              "      <td>Longfellow Bridge-Center</td>\n",
              "      <td>42.3611</td>\n",
              "      <td>-71.0758</td>\n",
              "      <td>120.0</td>\n",
              "      <td>cfu/100ml</td>\n",
              "      <td>Boston</td>\n",
              "    </tr>\n",
              "    <tr>\n",
              "      <th>4</th>\n",
              "      <td>2018-06-28</td>\n",
              "      <td>Escherichia coli</td>\n",
              "      <td>1NBS</td>\n",
              "      <td>North Beacon St. Bridge-Center</td>\n",
              "      <td>42.3589</td>\n",
              "      <td>-71.1619</td>\n",
              "      <td>250.0</td>\n",
              "      <td>cfu/100ml</td>\n",
              "      <td>Watertown</td>\n",
              "    </tr>\n",
              "  </tbody>\n",
              "</table>\n",
              "</div>"
            ],
            "text/plain": [
              "  Date_Collected    Component_Name  ... Unit_Abbreviation       Town\n",
              "0     2018-06-26  Escherichia coli  ...         cfu/100ml  Watertown\n",
              "1     2018-06-26  Escherichia coli  ...         cfu/100ml  Cambridge\n",
              "2     2018-06-26  Escherichia coli  ...         cfu/100ml  Brookline\n",
              "3     2018-06-26  Escherichia coli  ...         cfu/100ml     Boston\n",
              "4     2018-06-28  Escherichia coli  ...         cfu/100ml  Watertown\n",
              "\n",
              "[5 rows x 9 columns]"
            ]
          },
          "metadata": {
            "tags": []
          },
          "execution_count": 62
        }
      ]
    },
    {
      "cell_type": "code",
      "metadata": {
        "id": "57aLd_ioIqS7",
        "colab": {
          "base_uri": "https://localhost:8080/"
        },
        "outputId": "6f924874-a132-46b9-e095-3066bbf6091f"
      },
      "source": [
        "#Checking if dataset contains null values\n",
        "df_final.isnull().sum()"
      ],
      "execution_count": 63,
      "outputs": [
        {
          "output_type": "execute_result",
          "data": {
            "text/plain": [
              "Date_Collected         0\n",
              "Component_Name         0\n",
              "Site_ID                0\n",
              "Site_Name              6\n",
              "Latitude_DD          123\n",
              "Longitude_DD         123\n",
              "Reporting_Result       0\n",
              "Unit_Abbreviation      0\n",
              "Town                 123\n",
              "dtype: int64"
            ]
          },
          "metadata": {
            "tags": []
          },
          "execution_count": 63
        }
      ]
    },
    {
      "cell_type": "code",
      "metadata": {
        "id": "3wK-Y59lMHPg",
        "colab": {
          "base_uri": "https://localhost:8080/"
        },
        "outputId": "fa1e8ce3-cd1e-4a89-bb04-c960001b1525"
      },
      "source": [
        "# Checking number of rows before deleting\n",
        "print('Number of rows before deleting: {}'.format(df_final.shape))\n",
        "\n",
        "# Deleting any rows with empty values\n",
        "df_final = df_final.dropna(how='any', axis = 0)\n",
        "\n",
        "# Checking number of after deleting\n",
        "print('Number of rows before deleting: {}'.format(df_final.shape))\n",
        "\n",
        "#Checking if dataset contains null values\n",
        "print('')\n",
        "df_final.isnull().sum()"
      ],
      "execution_count": 64,
      "outputs": [
        {
          "output_type": "stream",
          "text": [
            "Number of rows before deleting: (4140, 9)\n",
            "Number of rows before deleting: (4017, 9)\n",
            "\n"
          ],
          "name": "stdout"
        },
        {
          "output_type": "execute_result",
          "data": {
            "text/plain": [
              "Date_Collected       0\n",
              "Component_Name       0\n",
              "Site_ID              0\n",
              "Site_Name            0\n",
              "Latitude_DD          0\n",
              "Longitude_DD         0\n",
              "Reporting_Result     0\n",
              "Unit_Abbreviation    0\n",
              "Town                 0\n",
              "dtype: int64"
            ]
          },
          "metadata": {
            "tags": []
          },
          "execution_count": 64
        }
      ]
    },
    {
      "cell_type": "code",
      "metadata": {
        "id": "NZG55G19KnOI",
        "colab": {
          "base_uri": "https://localhost:8080/",
          "height": 0
        },
        "outputId": "ef91cce1-0f68-45d1-a76b-7779bfcfe68a"
      },
      "source": [
        "#Adding safety column based on reporting result column\n",
        "df_final['Safety'] = df_final['Reporting_Result']\n",
        "df_final['Safety'] = pd.cut(df_final['Safety'], [-1, 235, 1260, 1000000], labels=['Safe', 'No Swimming', 'Not safe for activities'])\n",
        "\n",
        "# note: leave the labels as they are, because they are, as is, the basis for the color coding in the ArcGIS base map.\n",
        "#       we then manually changed the legend of the web map to be more precise and be what is displayed on the final dashboard\n",
        "\n",
        "# Check\n",
        "df_final.head()"
      ],
      "execution_count": 65,
      "outputs": [
        {
          "output_type": "execute_result",
          "data": {
            "text/html": [
              "<div>\n",
              "<style scoped>\n",
              "    .dataframe tbody tr th:only-of-type {\n",
              "        vertical-align: middle;\n",
              "    }\n",
              "\n",
              "    .dataframe tbody tr th {\n",
              "        vertical-align: top;\n",
              "    }\n",
              "\n",
              "    .dataframe thead th {\n",
              "        text-align: right;\n",
              "    }\n",
              "</style>\n",
              "<table border=\"1\" class=\"dataframe\">\n",
              "  <thead>\n",
              "    <tr style=\"text-align: right;\">\n",
              "      <th></th>\n",
              "      <th>Date_Collected</th>\n",
              "      <th>Component_Name</th>\n",
              "      <th>Site_ID</th>\n",
              "      <th>Site_Name</th>\n",
              "      <th>Latitude_DD</th>\n",
              "      <th>Longitude_DD</th>\n",
              "      <th>Reporting_Result</th>\n",
              "      <th>Unit_Abbreviation</th>\n",
              "      <th>Town</th>\n",
              "      <th>Safety</th>\n",
              "    </tr>\n",
              "  </thead>\n",
              "  <tbody>\n",
              "    <tr>\n",
              "      <th>0</th>\n",
              "      <td>2018-06-26</td>\n",
              "      <td>Escherichia coli</td>\n",
              "      <td>1NBS</td>\n",
              "      <td>North Beacon St. Bridge-Center</td>\n",
              "      <td>42.3589</td>\n",
              "      <td>-71.1619</td>\n",
              "      <td>3200.0</td>\n",
              "      <td>cfu/100ml</td>\n",
              "      <td>Watertown</td>\n",
              "      <td>Not safe for activities</td>\n",
              "    </tr>\n",
              "    <tr>\n",
              "      <th>1</th>\n",
              "      <td>2018-06-26</td>\n",
              "      <td>Escherichia coli</td>\n",
              "      <td>2LARZ</td>\n",
              "      <td>Larz Anderson Bridge-Center</td>\n",
              "      <td>42.3691</td>\n",
              "      <td>-71.1235</td>\n",
              "      <td>1530.0</td>\n",
              "      <td>cfu/100ml</td>\n",
              "      <td>Cambridge</td>\n",
              "      <td>Not safe for activities</td>\n",
              "    </tr>\n",
              "    <tr>\n",
              "      <th>2</th>\n",
              "      <td>2018-06-26</td>\n",
              "      <td>Escherichia coli</td>\n",
              "      <td>3BU</td>\n",
              "      <td>BU Bridge-Center</td>\n",
              "      <td>42.3526</td>\n",
              "      <td>-71.1112</td>\n",
              "      <td>320.0</td>\n",
              "      <td>cfu/100ml</td>\n",
              "      <td>Brookline</td>\n",
              "      <td>No Swimming</td>\n",
              "    </tr>\n",
              "    <tr>\n",
              "      <th>3</th>\n",
              "      <td>2018-06-26</td>\n",
              "      <td>Escherichia coli</td>\n",
              "      <td>4LONG</td>\n",
              "      <td>Longfellow Bridge-Center</td>\n",
              "      <td>42.3611</td>\n",
              "      <td>-71.0758</td>\n",
              "      <td>120.0</td>\n",
              "      <td>cfu/100ml</td>\n",
              "      <td>Boston</td>\n",
              "      <td>Safe</td>\n",
              "    </tr>\n",
              "    <tr>\n",
              "      <th>4</th>\n",
              "      <td>2018-06-28</td>\n",
              "      <td>Escherichia coli</td>\n",
              "      <td>1NBS</td>\n",
              "      <td>North Beacon St. Bridge-Center</td>\n",
              "      <td>42.3589</td>\n",
              "      <td>-71.1619</td>\n",
              "      <td>250.0</td>\n",
              "      <td>cfu/100ml</td>\n",
              "      <td>Watertown</td>\n",
              "      <td>No Swimming</td>\n",
              "    </tr>\n",
              "  </tbody>\n",
              "</table>\n",
              "</div>"
            ],
            "text/plain": [
              "  Date_Collected    Component_Name  ...       Town                   Safety\n",
              "0     2018-06-26  Escherichia coli  ...  Watertown  Not safe for activities\n",
              "1     2018-06-26  Escherichia coli  ...  Cambridge  Not safe for activities\n",
              "2     2018-06-26  Escherichia coli  ...  Brookline              No Swimming\n",
              "3     2018-06-26  Escherichia coli  ...     Boston                     Safe\n",
              "4     2018-06-28  Escherichia coli  ...  Watertown              No Swimming\n",
              "\n",
              "[5 rows x 10 columns]"
            ]
          },
          "metadata": {
            "tags": []
          },
          "execution_count": 65
        }
      ]
    },
    {
      "cell_type": "markdown",
      "metadata": {
        "id": "Hf0PndBcxXQq"
      },
      "source": [
        "# Clearing Old Data and Importing New Data"
      ]
    },
    {
      "cell_type": "code",
      "metadata": {
        "id": "M9KxfLMhjuZf"
      },
      "source": [
        "# Estabilishing credentials to interact with Google drive & Google Sheet\n",
        "gc = gspread.authorize(GoogleCredentials.get_application_default())"
      ],
      "execution_count": 66,
      "outputs": []
    },
    {
      "cell_type": "markdown",
      "metadata": {
        "id": "mn1W1-b5bDsk"
      },
      "source": [
        "Note: There must be a spreadsheet in google drive named \"E.Coli Database for ArcGis\""
      ]
    },
    {
      "cell_type": "code",
      "metadata": {
        "id": "YESp_ZPy6H6v"
      },
      "source": [
        "# Defining worksheet \n",
        "sheet = gc.open('E.Coli Database for ArcGis').sheet1"
      ],
      "execution_count": 67,
      "outputs": []
    },
    {
      "cell_type": "code",
      "metadata": {
        "id": "NE0lsgT_i0NE",
        "colab": {
          "base_uri": "https://localhost:8080/"
        },
        "outputId": "7c2ce054-2bed-4d93-9a4d-8a35786489f2"
      },
      "source": [
        "# Clear all contents in worksheet\n",
        "sheet.clear()"
      ],
      "execution_count": 68,
      "outputs": [
        {
          "output_type": "execute_result",
          "data": {
            "text/plain": [
              "{'clearedRange': 'Data!A1:Z4018',\n",
              " 'spreadsheetId': '1ua9lk6zM7AXeko9905qmmK6z4KHKEvR_QyzNFWmSi2E'}"
            ]
          },
          "metadata": {
            "tags": []
          },
          "execution_count": 68
        }
      ]
    },
    {
      "cell_type": "code",
      "metadata": {
        "id": "nDzdmPgLhv4n"
      },
      "source": [
        "# Importing final data frame into google sheets\n",
        "set_with_dataframe(sheet, df_final)"
      ],
      "execution_count": 69,
      "outputs": []
    },
    {
      "cell_type": "markdown",
      "metadata": {
        "id": "GEW7WfeY3rrp"
      },
      "source": [
        "# Creating Data_site Sheet"
      ]
    },
    {
      "cell_type": "code",
      "metadata": {
        "id": "Hz9wc6hZ3yqe",
        "colab": {
          "base_uri": "https://localhost:8080/",
          "height": 204
        },
        "outputId": "9101aaf4-2d4c-4f7e-e9f9-092f8396f134"
      },
      "source": [
        "# Selecting columns to be used to create data_site sheet\n",
        "df_site = df_final[['Town', 'Site_ID', 'Site_Name', 'Latitude_DD', 'Longitude_DD']]\n",
        "\n",
        "# Check \n",
        "df_site.head()"
      ],
      "execution_count": 70,
      "outputs": [
        {
          "output_type": "execute_result",
          "data": {
            "text/html": [
              "<div>\n",
              "<style scoped>\n",
              "    .dataframe tbody tr th:only-of-type {\n",
              "        vertical-align: middle;\n",
              "    }\n",
              "\n",
              "    .dataframe tbody tr th {\n",
              "        vertical-align: top;\n",
              "    }\n",
              "\n",
              "    .dataframe thead th {\n",
              "        text-align: right;\n",
              "    }\n",
              "</style>\n",
              "<table border=\"1\" class=\"dataframe\">\n",
              "  <thead>\n",
              "    <tr style=\"text-align: right;\">\n",
              "      <th></th>\n",
              "      <th>Town</th>\n",
              "      <th>Site_ID</th>\n",
              "      <th>Site_Name</th>\n",
              "      <th>Latitude_DD</th>\n",
              "      <th>Longitude_DD</th>\n",
              "    </tr>\n",
              "  </thead>\n",
              "  <tbody>\n",
              "    <tr>\n",
              "      <th>0</th>\n",
              "      <td>Watertown</td>\n",
              "      <td>1NBS</td>\n",
              "      <td>North Beacon St. Bridge-Center</td>\n",
              "      <td>42.3589</td>\n",
              "      <td>-71.1619</td>\n",
              "    </tr>\n",
              "    <tr>\n",
              "      <th>1</th>\n",
              "      <td>Cambridge</td>\n",
              "      <td>2LARZ</td>\n",
              "      <td>Larz Anderson Bridge-Center</td>\n",
              "      <td>42.3691</td>\n",
              "      <td>-71.1235</td>\n",
              "    </tr>\n",
              "    <tr>\n",
              "      <th>2</th>\n",
              "      <td>Brookline</td>\n",
              "      <td>3BU</td>\n",
              "      <td>BU Bridge-Center</td>\n",
              "      <td>42.3526</td>\n",
              "      <td>-71.1112</td>\n",
              "    </tr>\n",
              "    <tr>\n",
              "      <th>3</th>\n",
              "      <td>Boston</td>\n",
              "      <td>4LONG</td>\n",
              "      <td>Longfellow Bridge-Center</td>\n",
              "      <td>42.3611</td>\n",
              "      <td>-71.0758</td>\n",
              "    </tr>\n",
              "    <tr>\n",
              "      <th>4</th>\n",
              "      <td>Watertown</td>\n",
              "      <td>1NBS</td>\n",
              "      <td>North Beacon St. Bridge-Center</td>\n",
              "      <td>42.3589</td>\n",
              "      <td>-71.1619</td>\n",
              "    </tr>\n",
              "  </tbody>\n",
              "</table>\n",
              "</div>"
            ],
            "text/plain": [
              "        Town Site_ID                       Site_Name  Latitude_DD  Longitude_DD\n",
              "0  Watertown    1NBS  North Beacon St. Bridge-Center      42.3589      -71.1619\n",
              "1  Cambridge   2LARZ     Larz Anderson Bridge-Center      42.3691      -71.1235\n",
              "2  Brookline     3BU                BU Bridge-Center      42.3526      -71.1112\n",
              "3     Boston   4LONG        Longfellow Bridge-Center      42.3611      -71.0758\n",
              "4  Watertown    1NBS  North Beacon St. Bridge-Center      42.3589      -71.1619"
            ]
          },
          "metadata": {
            "tags": []
          },
          "execution_count": 70
        }
      ]
    },
    {
      "cell_type": "code",
      "metadata": {
        "id": "yaWE1zAjCB47",
        "colab": {
          "base_uri": "https://localhost:8080/"
        },
        "outputId": "895e3f34-b61b-4c67-e22d-9b4f55500ae9"
      },
      "source": [
        "# Checking number of before deleting\n",
        "print('Number of rows before deleting: {}'.format(df_site.shape))\n",
        "\n",
        "# Deleting any duplicates (keeping unique rows)\n",
        "df_site_final = df_site.drop_duplicates()\n",
        "\n",
        "# Checking number of after deleting\n",
        "print('Number of rows after deleting: {}'.format(df_site_final.shape))\n"
      ],
      "execution_count": 71,
      "outputs": [
        {
          "output_type": "stream",
          "text": [
            "Number of rows before deleting: (4017, 5)\n",
            "Number of rows after deleting: (39, 5)\n"
          ],
          "name": "stdout"
        }
      ]
    },
    {
      "cell_type": "markdown",
      "metadata": {
        "id": "U6nJEqAiHGMO"
      },
      "source": [
        "# Creating Data_Site File"
      ]
    },
    {
      "cell_type": "code",
      "metadata": {
        "id": "Bf0RFXCAIFcF"
      },
      "source": [
        "# Estabilishing credentials to interact with Google drive & Google Sheet\n",
        "gc = gspread.authorize(GoogleCredentials.get_application_default())"
      ],
      "execution_count": 72,
      "outputs": []
    },
    {
      "cell_type": "markdown",
      "metadata": {
        "id": "sljFGMIUb2xe"
      },
      "source": [
        "Note: There must be a spreadsheet in google drive named \"data_site\""
      ]
    },
    {
      "cell_type": "code",
      "metadata": {
        "id": "HoSc53jRIFcF"
      },
      "source": [
        "# Defining worksheet \n",
        "sheet = gc.open('data_site').sheet1"
      ],
      "execution_count": 73,
      "outputs": []
    },
    {
      "cell_type": "code",
      "metadata": {
        "colab": {
          "base_uri": "https://localhost:8080/"
        },
        "id": "Zeje1o17IFcF",
        "outputId": "e5ca8965-389e-48d6-96a1-64c5b3dd4c0b"
      },
      "source": [
        "# Clear all contents in worksheet\n",
        "sheet.clear()"
      ],
      "execution_count": 74,
      "outputs": [
        {
          "output_type": "execute_result",
          "data": {
            "text/plain": [
              "{'clearedRange': 'data_site!A1:Y1000',\n",
              " 'spreadsheetId': '172irAQZIu7NkOzVp8KsrsQ2Tujx8twzPK60KZXfQez0'}"
            ]
          },
          "metadata": {
            "tags": []
          },
          "execution_count": 74
        }
      ]
    },
    {
      "cell_type": "code",
      "metadata": {
        "id": "VaRYSGYTIFcG"
      },
      "source": [
        "# Importing final data frame into google sheets\n",
        "set_with_dataframe(sheet, df_site_final)"
      ],
      "execution_count": 75,
      "outputs": []
    },
    {
      "cell_type": "markdown",
      "metadata": {
        "id": "zWHr_4xFrVbP"
      },
      "source": [
        "# Archiving Dataset to Google Drive"
      ]
    },
    {
      "cell_type": "code",
      "metadata": {
        "id": "VLdDNs6ldE1W",
        "colab": {
          "base_uri": "https://localhost:8080/"
        },
        "outputId": "ab0223fa-b41c-423b-9be2-7385077bed59"
      },
      "source": [
        "# Follow instructions to allow access: copy the code ffrom new tab into box below and press enter to confirm. \n",
        "drive.mount('drive')"
      ],
      "execution_count": 76,
      "outputs": [
        {
          "output_type": "stream",
          "text": [
            "Drive already mounted at drive; to attempt to forcibly remount, call drive.mount(\"drive\", force_remount=True).\n"
          ],
          "name": "stdout"
        }
      ]
    },
    {
      "cell_type": "code",
      "metadata": {
        "id": "4SnrsNPuylg9"
      },
      "source": [
        "# Naming csv file to current date\n",
        "today = date.today()\n",
        "file_name = f'{today}_e_coli_data.csv'\n",
        "\n",
        "# Uploading final dataframe to google drive as referrence\n",
        "upload_df = df_final.to_csv(file_name)\n",
        "!cp  $file_name \"drive/My Drive/E. Coli Data/\""
      ],
      "execution_count": 77,
      "outputs": []
    },
    {
      "cell_type": "markdown",
      "metadata": {
        "id": "nGJPOagb2fIT"
      },
      "source": [
        "# Creating Download File"
      ]
    },
    {
      "cell_type": "code",
      "metadata": {
        "id": "35ThsFws2eqy"
      },
      "source": [
        "# Naming csv file to current date\n",
        "download_file_name = 'e_coli_data.csv'\n",
        "\n",
        "# Uploading final dataframe to google drive as referrence\n",
        "upload_df = df_final.to_csv(download_file_name)\n",
        "!cp  $download_file_name \"drive/My Drive/\""
      ],
      "execution_count": 78,
      "outputs": []
    }
  ]
}